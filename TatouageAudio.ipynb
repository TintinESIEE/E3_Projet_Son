{
 "cells": [
  {
   "cell_type": "code",
   "execution_count": null,
   "metadata": {},
   "outputs": [],
   "source": [
    "# enable plots in the notebook\n",
    "import matplotlib.pyplot as plt\n",
    "# makes our plots prettier\n",
    "import seaborn\n",
    "seaborn.set(style='ticks')\n",
    "\n",
    "#import the audio playback widget\n",
    "from IPython.display import Audio\n",
    "from scipy import signal\n",
    "\n",
    "# useful librairies\n",
    "import mir_eval\n",
    "import numpy as np\n",
    "import scipy\n",
    "import librosa\n",
    "import librosa.display\n",
    "from pydub import AudioSegment \n",
    "from ModulationPy import PSKModem, QAMModem"
   ]
  },
  {
   "cell_type": "code",
   "execution_count": null,
   "metadata": {},
   "outputs": [],
   "source": [
    "y, sr = librosa.load('interstellar.wav')\n",
    "Audio (data = y,rate =sr)"
   ]
  },
  {
   "cell_type": "code",
   "execution_count": null,
   "metadata": {},
   "outputs": [],
   "source": [
    "# Visualisez une forme d'onde dans le domaine temporel.\n",
    "\n",
    "plt.figure(figsize=(16, 5))\n",
    "librosa.display.waveshow(y, sr = sr)\n",
    "duree = y.shape[0] / sr\n",
    "print(' durée en secondes :', duree)\n",
    "\n",
    "# la transformée de Fourier à court terme (STFT).\n",
    "# Les STFT peuvent être utilisés comme moyen de quantifier le changement de la fréquence \n",
    "# et du contenu de phase d'un signal non stationnaire au fil du temps.\n",
    "D = librosa.stft(y)  # STFT of y\n",
    "\n",
    "S_db = librosa.amplitude_to_db(np.abs(D), ref=np.max)"
   ]
  },
  {
   "cell_type": "code",
   "execution_count": null,
   "metadata": {},
   "outputs": [],
   "source": [
    "# Spectrogrammes Linéaire et Logarithmique du signal initial"
   ]
  },
  {
   "cell_type": "code",
   "execution_count": null,
   "metadata": {},
   "outputs": [],
   "source": [
    "# L'échelle de fréquence linéaire est parfois utile, mais souvent difficile à lire. \n",
    "# En variante, il est courant d'utiliser un axe de fréquence logarithmique. \n",
    "# Cela a l'avantage que chaque octave occupe une étendue verticale constante."
   ]
  },
  {
   "cell_type": "code",
   "execution_count": null,
   "metadata": {},
   "outputs": [],
   "source": [
    "fig, ax = plt.subplots()\n",
    "img = librosa.display.specshow(S_db, x_axis='time', y_axis='linear', ax=ax)\n",
    "ax.set(title='Using a linear frequency axis')\n",
    "fig.colorbar(img, ax=ax, format=\"%+2.f dB\")"
   ]
  },
  {
   "cell_type": "code",
   "execution_count": null,
   "metadata": {},
   "outputs": [],
   "source": [
    "fig, ax = plt.subplots()\n",
    "img = librosa.display.specshow(S_db,x_axis='time', y_axis='log',sr=sr, ax=ax)\n",
    "ax.set_title('Using a logarithmic frequency axis')\n",
    "ax.set_yticks([1,10,100,1000,8000,12000])\n",
    "fig.colorbar(img, ax=ax, format=\"%+2.0f dB\")"
   ]
  },
  {
   "cell_type": "code",
   "execution_count": null,
   "metadata": {},
   "outputs": [],
   "source": [
    "# Quelques effets possibles avec librosa : \n",
    "# - isoler uniquement le son \n",
    "# - isoler uniquement les percussions "
   ]
  },
  {
   "cell_type": "code",
   "execution_count": null,
   "metadata": {},
   "outputs": [],
   "source": [
    "y_harmonic, y_percussive  = librosa.effects.hpss(y)\n",
    "Audio (data = y_harmonic,rate =sr)\n",
    "#Audio (data = y_percussive,rate =sr)"
   ]
  },
  {
   "cell_type": "code",
   "execution_count": null,
   "metadata": {},
   "outputs": [],
   "source": [
    "# Filtrage passe bas à 11 khz + résidus seulement à 12Khz"
   ]
  },
  {
   "cell_type": "code",
   "execution_count": null,
   "metadata": {},
   "outputs": [],
   "source": [
    "from scipy.signal import butter, sosfilt, sosfreqz\n",
    "# Fréquence d'échantillonnage\n",
    "fe = 1 # Hz\n",
    "# Fréquence de nyquist\n",
    "f_nyq = fe / 2.  # Hz\n",
    "# Fréquence de coupure\n",
    "fc = 0.4999  # Hz\n",
    "# Préparation du filtre de Butterworth en passe-bas\n",
    "b, a = signal.butter(4, fc/f_nyq, 'low', analog=False)\n",
    "\n",
    "# Application du filtre\n",
    "s_but = signal.filtfilt(b, a, y)\n",
    "\n",
    "# Affichage du signal filtré\n",
    "plt.plot(y, color='silver', label='Signal')\n",
    "plt.plot(s_but, color='#cc0000', label='Signal filtré')\n",
    "plt.grid(True, which='both')\n",
    "plt.legend(loc=\"best\")\n",
    "plt.title(\"Filtre passe-bas numérique\")\n",
    "plt.show()"
   ]
  },
  {
   "cell_type": "code",
   "execution_count": null,
   "metadata": {},
   "outputs": [],
   "source": [
    "Audio (s_but,rate =sr)"
   ]
  },
  {
   "cell_type": "code",
   "execution_count": null,
   "metadata": {},
   "outputs": [],
   "source": [
    "# Pour plus de précisions : \n",
    "# Signal filtré à 12 Khz avec un FL Studio"
   ]
  },
  {
   "cell_type": "code",
   "execution_count": null,
   "metadata": {},
   "outputs": [],
   "source": [
    "y2, sr2 = librosa.load('interstellar_12Khz_filter.wav')\n",
    "Audio (data = y2,rate =sr2)"
   ]
  },
  {
   "cell_type": "code",
   "execution_count": null,
   "metadata": {},
   "outputs": [],
   "source": []
  },
  {
   "cell_type": "code",
   "execution_count": null,
   "metadata": {},
   "outputs": [],
   "source": []
  },
  {
   "cell_type": "code",
   "execution_count": null,
   "metadata": {},
   "outputs": [],
   "source": []
  },
  {
   "cell_type": "code",
   "execution_count": null,
   "metadata": {},
   "outputs": [],
   "source": [
    "FRAME_SIZE = 2048\n",
    "HOP_SIZE = 512"
   ]
  },
  {
   "cell_type": "code",
   "execution_count": null,
   "metadata": {},
   "outputs": [],
   "source": [
    "S_scale = librosa.stft(y,n_fft=FRAME_SIZE,hop_length = HOP_SIZE)\n",
    "S_scale.shape"
   ]
  },
  {
   "cell_type": "code",
   "execution_count": null,
   "metadata": {},
   "outputs": [],
   "source": [
    "Y_scale = np.abs(S_scale)**2\n",
    "Y_scale.shape"
   ]
  },
  {
   "cell_type": "code",
   "execution_count": null,
   "metadata": {},
   "outputs": [],
   "source": [
    "def plot_spectrogram(Y,sr,hop_length,y_axis = 'linear'):\n",
    "    plt.figure(figsize=(25,10))\n",
    "    librosa.display.specshow(Y, sr=sr, hop_length= hop_length, x_axis ='time', y_axis = y_axis)\n",
    "    plt.colorbar(format='%+2.0f')"
   ]
  },
  {
   "cell_type": "code",
   "execution_count": null,
   "metadata": {},
   "outputs": [],
   "source": [
    "plot_spectrogram(Y_scale,sr, HOP_SIZE)"
   ]
  },
  {
   "cell_type": "code",
   "execution_count": null,
   "metadata": {},
   "outputs": [],
   "source": [
    "# LOG AMPLITUDE SPECTROGRAM\n",
    "\n",
    "Y_log_scale = librosa.power_to_db(Y_scale)\n",
    "plot_spectrogram(Y_log_scale,sr,HOP_SIZE)"
   ]
  },
  {
   "cell_type": "code",
   "execution_count": null,
   "metadata": {},
   "outputs": [],
   "source": [
    "# LOG FREQUENCY SPECTROGRAM\n",
    "plot_spectrogram(Y_log_scale,sr,HOP_SIZE,y_axis= 'log')"
   ]
  },
  {
   "cell_type": "code",
   "execution_count": null,
   "metadata": {},
   "outputs": [],
   "source": [
    "sound1 = AudioSegment.from_file(\"interstellar.wav\")\n",
    "sound2 = AudioSegment.from_file(\"son.wav\")\n",
    "combined1 = sound1.overlay(sound2)\n",
    "combined.export('combined1.wav',format='wav')"
   ]
  },
  {
   "cell_type": "code",
   "execution_count": null,
   "metadata": {
    "scrolled": true
   },
   "outputs": [],
   "source": [
    "from turtle import *\n",
    "import math\n",
    "\n",
    "\n",
    "\"\"\"\n",
    "Description :\n",
    "- Accepte toutes les dimensions de dessin (dans la limite du raisonnable, ne pas dépasser 30x30 pixel).\n",
    "- PAR EXEMPLE pour dessiner le logo ESIEE, utilisez un fichier txt contenant ceci :\n",
    "\n",
    "111110011111001000111110011111\n",
    "110000011000001100110000011000\n",
    "111110011111001100011110011111\n",
    "110000000011001100110000011000\n",
    "111110011111001100111110011111\n",
    "\n",
    "- Ne pas oublier de fermer turtle avec la commande, bye().\n",
    "\n",
    "\"\"\"\n",
    "\n",
    "\n",
    "#dessin d'un pixel\n",
    "def dessinerPixel(x , y):\n",
    "    fillcolor(\"black\")\n",
    "    up()\n",
    "    goto(x,y)\n",
    "    down()\n",
    "    begin_fill()\n",
    "    for i in range(4):\n",
    "        forward(20)\n",
    "        left(90)\n",
    "    end_fill()\n",
    "\n",
    "\n",
    "\n",
    "#dessine l'image a partir du fichier txt mis en parametre\n",
    "def dessinerASCII(nomFichier):\n",
    "    #Variables\n",
    "    x =-300\n",
    "    y = 100\n",
    "\n",
    "    #parametres du stylo\n",
    "    speed(15)\n",
    "    delay(0)\n",
    "    hideturtle()\n",
    "\n",
    "    fichier = open(nomFichier, \"r\")\n",
    "    lignes = fichier.readlines()\n",
    "    for ligne in lignes:\n",
    "        for bit in ligne:\n",
    "            if(bit == \"1\"):\n",
    "                dessinerPixel(x , y)\n",
    "            x+=20\n",
    "        y-=20\n",
    "        x=-300\n",
    "    print(\"dessin terminé\")"
   ]
  },
  {
   "cell_type": "code",
   "execution_count": null,
   "metadata": {},
   "outputs": [],
   "source": [
    "modem = QAMModem(16, \n",
    "                 bin_input=True,\n",
    "                 soft_decision=False,\n",
    "                 bin_output=True)\n",
    "modem.plot_const()"
   ]
  },
  {
   "cell_type": "code",
   "execution_count": null,
   "metadata": {},
   "outputs": [],
   "source": [
    "msg = np.array([1,1,1,1,1,0,0,1,1,1,1,1,0,0,1,0,0,0,1,1,1,1,1,0,0,1,1,1,1,1,0,0,1,1,0,0,0,0,0,1,1,0,0,0,0,0,1,1,0,0,1,1,0,0,0,0,0,1,1,0,0,0,0,0,1,1,1,1,1,0,0,1,1,1,1,1,0,0,1,1,0,0,0,1,1,1,1,0,0,1,1,1,1,1,0,0,1,1,0,0,0,0,0,0,0,0,1,1,0,0,1,1,0,0,1,1,0,0,0,0,0,1,1,0,0,0,0,0,1,1,1,1,1,0,0,1,1,1,1,1,0,0,1,1,0,0,1,1,1,1,1,0,0,1,1,1,1,1,0,0]) # message d'entrée\n",
    "modulation = modem.modulate(msg) # modulation -> Moduler un tableau de bits en symboles de constellation\n",
    "print ( \" Message modulé : \\n \" + str (modulation)+ \"\\n\")\n",
    "\n",
    "demodulation = modem.demodulate(modulation) #démodulation\n",
    "print ( \" Message démodulé : \\n \" + str (demodulation))"
   ]
  },
  {
   "cell_type": "code",
   "execution_count": null,
   "metadata": {},
   "outputs": [],
   "source": [
    "print(demodulation.shape)\n",
    "print(msg.shape)\n",
    "print(modulation.shape)"
   ]
  },
  {
   "cell_type": "code",
   "execution_count": null,
   "metadata": {},
   "outputs": [],
   "source": [
    "#ici on veut s'assurer qu'il n'y a pas eu d'erreur dans la modulation et la démodulation\n",
    "np.array_equal(msg, demodulation)#On regarde si le message de base est égal à ce qu'on a obtenu apres la demodulation"
   ]
  },
  {
   "cell_type": "code",
   "execution_count": null,
   "metadata": {},
   "outputs": [],
   "source": [
    "for i in range (len(modulation)):\n",
    "    modulation[i]"
   ]
  },
  {
   "cell_type": "code",
   "execution_count": null,
   "metadata": {},
   "outputs": [],
   "source": [
    "T  =  1                      # distance temporelle entre les impulsions \n",
    "Ts  =  0.00075                   # fréquence d'échantillonnage, utilisée pour discrétiser le système \n",
    "t  =  np . arange (0,  len(modulation)+1 ,  1 / Fs )  # plage de temps à considérer \n",
    "comb  =  np . zeros_like (t) \n",
    "comb[::int(Fs*T)] =  T      # Comb devient T tous les T*Fs échantillons \n",
    "plt.plot(t,comb)"
   ]
  },
  {
   "cell_type": "code",
   "execution_count": null,
   "metadata": {},
   "outputs": [],
   "source": []
  },
  {
   "cell_type": "code",
   "execution_count": null,
   "metadata": {},
   "outputs": [],
   "source": []
  }
 ],
 "metadata": {
  "kernelspec": {
   "display_name": "Python 3 (ipykernel)",
   "language": "python",
   "name": "python3"
  },
  "language_info": {
   "codemirror_mode": {
    "name": "ipython",
    "version": 3
   },
   "file_extension": ".py",
   "mimetype": "text/x-python",
   "name": "python",
   "nbconvert_exporter": "python",
   "pygments_lexer": "ipython3",
   "version": "3.7.3"
  }
 },
 "nbformat": 4,
 "nbformat_minor": 4
}
